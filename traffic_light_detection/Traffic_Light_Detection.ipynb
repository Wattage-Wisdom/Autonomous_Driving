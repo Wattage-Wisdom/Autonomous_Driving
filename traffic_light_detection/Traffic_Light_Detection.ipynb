{
  "nbformat": 4,
  "nbformat_minor": 0,
  "metadata": {
    "colab": {
      "provenance": []
    },
    "kernelspec": {
      "name": "python3",
      "display_name": "Python 3"
    },
    "language_info": {
      "name": "python"
    }
  },
  "cells": [
    {
      "cell_type": "code",
      "source": [
        "from google.colab import drive\n",
        "drive.mount('/content/drive')"
      ],
      "metadata": {
        "id": "B1D-airING31",
        "colab": {
          "base_uri": "https://localhost:8080/"
        },
        "outputId": "e61cb1d2-ed28-4df7-8f39-504ef21feeb8"
      },
      "execution_count": 1,
      "outputs": [
        {
          "output_type": "stream",
          "name": "stdout",
          "text": [
            "Mounted at /content/drive\n"
          ]
        }
      ]
    },
    {
      "cell_type": "code",
      "execution_count": 2,
      "metadata": {
        "id": "o_jmfNY79i5S"
      },
      "outputs": [],
      "source": [
        "import sys\n",
        "import cv2\n",
        "import numpy as np"
      ]
    },
    {
      "cell_type": "code",
      "source": [
        "#Declare variables for light detection\n",
        "\n",
        "#Semaphore variables\n",
        "redSemaphore = 0\n",
        "greenSemaphore = 0\n",
        "\n",
        "#Color boundaries for red\n",
        "Rlower = [0, 0, 160] # lower boundaries\n",
        "Rupper = [120, 120, 255] # upper boundaries\n",
        "Rlower = np.array(Rlower, dtype = \"uint8\")\n",
        "Rupper = np.array(Rupper, dtype = \"uint8\")\n",
        "\n",
        "#Color boundaries for green\n",
        "Glower = [0, 160, 0] # lower boundaries\n",
        "Gupper = [120, 255, 120] # upper boundaries\n",
        "Glower = np.array(Glower, dtype = \"uint8\")\n",
        "Gupper = np.array(Gupper, dtype = \"uint8\")\n",
        "\n",
        "#Image row and color boundaries based on image shape\n",
        "imin = 0\n",
        "imax = 111\n",
        "jmin = 0\n",
        "jmax = 159\n",
        "step = 1\n",
        "\n"
      ],
      "metadata": {
        "id": "BWrffW33-Wm-"
      },
      "execution_count": 12,
      "outputs": []
    },
    {
      "cell_type": "code",
      "source": [
        "#Define a function to transform the image\n",
        "def image_transform(data):\n",
        "  cvImage = cv2.imread(data) #Read the data as a cv image\n",
        "  cvImage = cv2.resize(cvImage, (160,112)) #Resize the image\n",
        "\n",
        "  return cvImage"
      ],
      "metadata": {
        "id": "HgMVmiTPGgZV"
      },
      "execution_count": 4,
      "outputs": []
    },
    {
      "cell_type": "code",
      "source": [
        "#Define a variable to perform color detection and classify light\n",
        "def light_detection(cvImage):\n",
        "  #Define masks for color detection\n",
        "  maskR = cv2.inRange(cvImage, Rlower, Rupper) #Red boundaries mask\n",
        "  redMask = cv2.bitwise_and(cvImage, cvImage, mask = maskR) #Red filtered image\n",
        "  maskG = cv2.inRange(cvImage, Glower, Gupper) #Green boundaries mask\n",
        "  greenMask = cv2.bitwise_and(cvImage, cvImage, mask = maskG) #Green filtered image\n",
        "\n",
        "  #Reset Semaphore variables to zero\n",
        "  greenSemaphore = 0\n",
        "  redSemaphore = 0\n",
        "\n",
        "  #Look for green Semaphores\n",
        "  for i in range(imin, imax, step):\n",
        "    for j in range(jmin, jmax, step):\n",
        "      if greenMask[i][j][1] > 0: #If that pixel is green\n",
        "        greenSemaphore += 1 #Add a greenSemaphore\n",
        "  if greenSemaphore >= 1:\n",
        "    light_detected = 'Green'\n",
        "    print('Green_set')\n",
        "\n",
        "  #Look for red Semaphores\n",
        "  for i in range(imin, imax, step):\n",
        "    for j in range(jmin, jmax, step):\n",
        "      if redMask[i][j][2] > 0: #If that pixel is red\n",
        "        redSemaphore += 1 #Add a redSemaphore\n",
        "  if redSemaphore >= 1:\n",
        "    light_detected = 'Red'\n",
        "    print('Red_set')\n",
        "\n",
        "  #If niether Semaphores are found than no traffic light has been detected\n",
        "  if redSemaphore == 0 and greenSemaphore == 0:\n",
        "    light_detected = 'No light found'\n",
        "    print('No light found set')\n",
        "\n",
        "  print('Green Semaphores detected: ', greenSemaphore)\n",
        "  print('Red Semaphores detected: ', redSemaphore)\n",
        "\n",
        "  return light_detected"
      ],
      "metadata": {
        "id": "ZktOk-qaEVas"
      },
      "execution_count": 5,
      "outputs": []
    },
    {
      "cell_type": "code",
      "source": [
        "#Transform the image and run the detection function\n",
        "image = \"/content/drive/MyDrive/Traffic_Light_Detection/red_light.png\"\n",
        "transformed_image = image_transform(image)\n",
        "light_detected = light_detection(transformed_image)\n",
        "print(light_detected)"
      ],
      "metadata": {
        "id": "-P2PYZhuNosO",
        "colab": {
          "base_uri": "https://localhost:8080/"
        },
        "outputId": "c8e342dd-2fed-4f7b-9288-8c1930bb1e27"
      },
      "execution_count": 15,
      "outputs": [
        {
          "output_type": "stream",
          "name": "stdout",
          "text": [
            "Red_set\n",
            "Green Semaphores detected:  0\n",
            "Red Semaphores detected:  2\n",
            "Red\n"
          ]
        }
      ]
    }
  ]
}